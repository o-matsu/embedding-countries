{
 "cells": [
  {
   "cell_type": "code",
   "execution_count": null,
   "metadata": {},
   "outputs": [],
   "source": [
    "from pprint import pprint"
   ]
  },
  {
   "cell_type": "code",
   "execution_count": null,
   "metadata": {},
   "outputs": [],
   "source": [
    "from pydantic import BaseModel\n",
    "\n",
    "class Country(BaseModel):\n",
    "    name: str\n",
    "    answer: str\n"
   ]
  },
  {
   "cell_type": "code",
   "execution_count": null,
   "metadata": {},
   "outputs": [],
   "source": [
    "f = open(\"./.api-key\", \"r\")\n",
    "API_KEY = f.read()\n",
    "print(API_KEY)\n",
    "f.close()"
   ]
  },
  {
   "cell_type": "code",
   "execution_count": null,
   "metadata": {},
   "outputs": [],
   "source": [
    "from openai import OpenAI, pydantic_function_tool\n",
    "\n",
    "client = OpenAI(api_key = \"API_KEY\")"
   ]
  },
  {
   "cell_type": "code",
   "execution_count": null,
   "metadata": {},
   "outputs": [],
   "source": [
    "system_content = \"あなたは優秀な歴史学者であり、地政学者です。\\\n",
    "    ユーザーの質問に対して、G20の各国・地域について、それぞれ簡潔に答えてください。\\\n",
    "    必ず「フランス、アメリカ、イギリス、ドイツ、日本、イタリア、カナダ、EU、アルゼンチン、オーストラリア、ブラジル、中国、インド、インドネシア、メキシコ、韓国、ロシア、サウジアラビア、南アフリカ、トルコ、AU」のそれぞれについて説明してください。\\\n",
    "    回答できない場合は「分からない」という説明にしてください。\"\n",
    "query = \"主要産業\"\n",
    "completion = client.beta.chat.completions.parse(\n",
    "    model=\"gpt-4o\",\n",
    "    messages=[\n",
    "    {\n",
    "        \"role\": \"system\",\n",
    "        \"content\": system_content,\n",
    "    },\n",
    "    {\n",
    "        \"role\": \"user\",\n",
    "        \"content\": \"{}について教えてください。\".format(query),\n",
    "    },\n",
    "    ],\n",
    "    tools=[pydantic_function_tool(Country)],\n",
    ")\n"
   ]
  },
  {
   "cell_type": "code",
   "execution_count": null,
   "metadata": {},
   "outputs": [],
   "source": [
    "pprint(completion.choices[0].message.tool_calls)"
   ]
  },
  {
   "cell_type": "code",
   "execution_count": null,
   "metadata": {},
   "outputs": [],
   "source": [
    "print(len(completion.choices[0].message.tool_calls))\n",
    "print(type(completion.choices[0].message))\n",
    "print(type(completion.choices[0].message.tool_calls))\n"
   ]
  },
  {
   "cell_type": "code",
   "execution_count": null,
   "metadata": {},
   "outputs": [],
   "source": [
    "texts = list(\n",
    "  map(\n",
    "    lambda x: x.function.parsed_arguments.answer,\n",
    "    completion.choices[0].message.tool_calls,\n",
    "  )\n",
    ")\n",
    "\n",
    "print(texts)"
   ]
  },
  {
   "cell_type": "code",
   "execution_count": null,
   "metadata": {},
   "outputs": [],
   "source": [
    "embedding = client.embeddings.create(input=texts, model=\"text-embedding-3-small\", dimensions=512)\n",
    "vectors = list(map(lambda x: x.embedding, embedding.data))\n",
    "pprint(vectors)"
   ]
  },
  {
   "cell_type": "code",
   "execution_count": null,
   "metadata": {},
   "outputs": [],
   "source": [
    "import umap\n",
    "\n",
    "#上手く行かなかったら以下でリトライ\n",
    "#import umap.umap_ as umap\n",
    "\n",
    "reducer = umap.UMAP(n_components=3)\n",
    "res = reducer.fit_transform(vectors)\n",
    "print(res)\n"
   ]
  },
  {
   "cell_type": "code",
   "execution_count": null,
   "metadata": {},
   "outputs": [],
   "source": [
    "import matplotlib.pyplot as plt\n",
    "import matplotlib_fontja\n",
    "\n",
    "fig = plt.figure()\n",
    "ax = fig.add_subplot(projection='3d')\n",
    "ax.scatter(res[:, 0], res[:, 1], res[:, 2], color='green')\n",
    "\n",
    "# 各点にラベルを表示\n",
    "countries = list(map(lambda x: x.function.parsed_arguments.name, completion.choices[0].message.tool_calls))\n",
    "for i, name in enumerate(countries):\n",
    "    ax.text(res[i, 0], res[i, 1], res[i, 2], name, fontsize=8)\n",
    "\n",
    "plt.show()\n",
    "\n",
    "# # UMAPの結果を2次元プロット\n",
    "# plt.scatter(res[:, 0], res[:, 1], s=5, c='blue')\n",
    "\n",
    "# # 各点にラベルを表示\n",
    "# countries = list(map(lambda x: x.function.parsed_arguments.name, completion.choices[0].message.tool_calls))\n",
    "# for i, name in enumerate(countries):\n",
    "#     plt.annotate(name, (res[i, 0], res[i, 1]), fontsize=8)\n",
    "\n",
    "plt.show()\n"
   ]
  }
 ],
 "metadata": {
  "kernelspec": {
   "display_name": "Python 3",
   "language": "python",
   "name": "python3"
  },
  "language_info": {
   "codemirror_mode": {
    "name": "ipython",
    "version": 3
   },
   "file_extension": ".py",
   "mimetype": "text/x-python",
   "name": "python",
   "nbconvert_exporter": "python",
   "pygments_lexer": "ipython3",
   "version": "3.12.6"
  }
 },
 "nbformat": 4,
 "nbformat_minor": 2
}
