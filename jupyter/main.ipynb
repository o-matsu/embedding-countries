{
 "cells": [
  {
   "cell_type": "code",
   "execution_count": null,
   "metadata": {},
   "outputs": [],
   "source": [
    "from pprint import pprint"
   ]
  },
  {
   "cell_type": "code",
   "execution_count": null,
   "metadata": {},
   "outputs": [],
   "source": [
    "from pydantic import BaseModel\n",
    "\n",
    "class Country(BaseModel):\n",
    "    name: str\n",
    "    answer: str\n"
   ]
  },
  {
   "cell_type": "code",
   "execution_count": null,
   "metadata": {},
   "outputs": [],
   "source": [
    "f = open(\"./.api-key\", \"r\")\n",
    "API_KEY = f.read()\n",
    "print(API_KEY)\n",
    "f.close()"
   ]
  },
  {
   "cell_type": "code",
   "execution_count": null,
   "metadata": {},
   "outputs": [],
   "source": [
    "from openai import OpenAI, pydantic_function_tool\n",
    "\n",
    "client = OpenAI(api_key = \"API_KEY\")"
   ]
  },
  {
   "cell_type": "code",
   "execution_count": null,
   "metadata": {},
   "outputs": [],
   "source": [
    "system_content = \"あなたは優秀な歴史学者であり、地政学者です。\\\n",
    "    ユーザーの質問に対して、G20の各国・地域について、それぞれ簡潔に答えてください。\\\n",
    "    必ず「フランス、アメリカ、イギリス、ドイツ、日本、イタリア、カナダ、EU、アルゼンチン、オーストラリア、ブラジル、中国、インド、インドネシア、メキシコ、韓国、ロシア、サウジアラビア、南アフリカ、トルコ、AU」のそれぞれについて説明してください。\\\n",
    "    回答できない場合は「分からない」という説明にしてください。\"\n",
    "query = \"主要産業\"\n",
    "completion = client.beta.chat.completions.parse(\n",
    "    model=\"gpt-4o\",\n",
    "    messages=[\n",
    "    {\n",
    "        \"role\": \"system\",\n",
    "        \"content\": system_content,\n",
    "    },\n",
    "    {\n",
    "        \"role\": \"user\",\n",
    "        \"content\": \"{}について教えてください。\".format(query),\n",
    "    },\n",
    "    ],\n",
    "    tools=[pydantic_function_tool(Country)],\n",
    ")\n"
   ]
  },
  {
   "cell_type": "code",
   "execution_count": null,
   "metadata": {},
   "outputs": [],
   "source": [
    "pprint(completion.choices[0].message.tool_calls)"
   ]
  },
  {
   "cell_type": "code",
   "execution_count": null,
   "metadata": {},
   "outputs": [],
   "source": [
    "print(len(completion.choices[0].message.tool_calls))\n",
    "print(type(completion.choices[0].message))\n",
    "print(type(completion.choices[0].message.tool_calls))\n"
   ]
  },
  {
   "cell_type": "code",
   "execution_count": null,
   "metadata": {},
   "outputs": [],
   "source": [
    "texts = list(\n",
    "  map(\n",
    "    lambda x: x.function.parsed_arguments.answer,\n",
    "    completion.choices[0].message.tool_calls,\n",
    "  )\n",
    ")\n",
    "\n",
    "print(texts)"
   ]
  },
  {
   "cell_type": "code",
   "execution_count": null,
   "metadata": {},
   "outputs": [],
   "source": [
    "embedding = client.embeddings.create(input=texts, model=\"text-embedding-3-small\", dimensions=512)\n",
    "vectors = list(map(lambda x: x.embedding, embedding.data))\n",
    "pprint(vectors)"
   ]
  },
  {
   "cell_type": "code",
   "execution_count": null,
   "metadata": {},
   "outputs": [],
   "source": [
    "import umap\n",
    "\n",
    "reducer = umap.UMAP()\n",
    "vec2 = reducer.fit_transform(vectors)\n",
    "print(vec2)\n"
   ]
  },
  {
   "cell_type": "code",
   "execution_count": null,
   "metadata": {},
   "outputs": [],
   "source": [
    "from sklearn.metrics.pairwise import cosine_similarity\n",
    "\n",
    "result = cosine_similarity(vectors, vectors)\n",
    "pprint(result.shape)\n",
    "pprint(result)"
   ]
  },
  {
   "cell_type": "code",
   "execution_count": null,
   "metadata": {},
   "outputs": [],
   "source": [
    "from sklearn.cluster import KMeans\n",
    "\n",
    "cluster = KMeans(n_clusters=3, init=\"k-means++\", random_state=0).fit(vectors)\n",
    "pprint(cluster.labels_)"
   ]
  },
  {
   "cell_type": "code",
   "execution_count": null,
   "metadata": {},
   "outputs": [],
   "source": [
    "import numpy as np\n",
    "vec2_extend = np.hstack([vec2, cluster.labels_.reshape(vec2.shape[0], 1)])\n",
    "print(vec2_extend.shape)\n",
    "pprint(vec2_extend)"
   ]
  },
  {
   "cell_type": "code",
   "execution_count": null,
   "metadata": {},
   "outputs": [],
   "source": [
    "import matplotlib.pyplot as plt\n",
    "import matplotlib_fontja\n",
    "\n",
    "fig = plt.figure()\n",
    "# ax = fig.add_subplot(projection='2d')\n",
    "# ax.scatter(res[:, 0], res[:, 1], color='green')\n",
    "\n",
    "# # 各点にラベルを表示\n",
    "# countries = list(map(lambda x: x.function.parsed_arguments.name, completion.choices[0].message.tool_calls))\n",
    "# for i, name in enumerate(countries):\n",
    "#     ax.text(res[i, 0], res[i, 1], name, fontsize=8)\n",
    "\n",
    "# plt.show()\n",
    "\n",
    "# UMAPの結果を2次元プロット\n",
    "color = [\"red\", \"blue\", \"green\"]\n",
    "plt.scatter(vec2[:, 0], vec2[:, 1], s=5, c=vec2_extend[:, 2], cmap=\"Set1\")\n",
    "\n",
    "# 各点にラベルを表示\n",
    "countries = list(map(lambda x: x.function.parsed_arguments.name, completion.choices[0].message.tool_calls))\n",
    "line_x, line_y = np.array([]), np.array([])\n",
    "for i, name in enumerate(countries):\n",
    "    plt.annotate(name, (vec2[i, 0], vec2[i, 1]), fontsize=8)\n",
    "    for j, _ in enumerate(countries):\n",
    "        if i == j:\n",
    "            continue\n",
    "        if (result[i, j] < 0):\n",
    "            continue\n",
    "        line_x = np.append(line_x, vec2[i, 0])\n",
    "        line_y = np.append(line_y, vec2[i, 1])\n",
    "        line_x = np.append(line_x, vec2[j, 0])\n",
    "        line_y = np.append(line_y, vec2[j, 1])\n",
    "        if (result[i, j] < 0.6):\n",
    "            continue\n",
    "        if (result[i, j] < 0.7):\n",
    "            plt.plot(line_x, line_y, ls='dotted', lw=0.3)\n",
    "        else:\n",
    "            plt.plot(line_x, line_y, ls='-', lw=1.1)\n",
    "        line_x, line_y = np.array([]), np.array([])\n",
    "\n",
    "plt.show()"
   ]
  }
 ],
 "metadata": {
  "kernelspec": {
   "display_name": "Python 3",
   "language": "python",
   "name": "python3"
  },
  "language_info": {
   "codemirror_mode": {
    "name": "ipython",
    "version": 3
   },
   "file_extension": ".py",
   "mimetype": "text/x-python",
   "name": "python",
   "nbconvert_exporter": "python",
   "pygments_lexer": "ipython3",
   "version": "3.12.6"
  }
 },
 "nbformat": 4,
 "nbformat_minor": 2
}
